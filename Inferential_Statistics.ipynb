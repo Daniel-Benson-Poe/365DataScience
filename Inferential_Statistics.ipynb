{
  "nbformat": 4,
  "nbformat_minor": 0,
  "metadata": {
    "colab": {
      "provenance": [],
      "collapsed_sections": [
        "sBBX72F2ge5d",
        "V_AKzB_eieOg",
        "O-6sZSlIjhAl",
        "qNVTGPEDlUSN",
        "pjMc3rwXqpzA"
      ],
      "authorship_tag": "ABX9TyOgeTBjUDjfj638zKx0TaIF",
      "include_colab_link": true
    },
    "kernelspec": {
      "name": "python3",
      "display_name": "Python 3"
    },
    "language_info": {
      "name": "python"
    }
  },
  "cells": [
    {
      "cell_type": "markdown",
      "metadata": {
        "id": "view-in-github",
        "colab_type": "text"
      },
      "source": [
        "<a href=\"https://colab.research.google.com/github/Daniel-Benson-Poe/365DataScience/blob/main/Inferential_Statistics.ipynb\" target=\"_parent\"><img src=\"https://colab.research.google.com/assets/colab-badge.svg\" alt=\"Open In Colab\"/></a>"
      ]
    },
    {
      "cell_type": "markdown",
      "source": [
        "# Distribution"
      ],
      "metadata": {
        "id": "sBBX72F2ge5d"
      }
    },
    {
      "cell_type": "markdown",
      "source": [
        "Function that shows possible values for a variable and how often they occur"
      ],
      "metadata": {
        "id": "-jOFVn3Pggbt"
      }
    },
    {
      "cell_type": "markdown",
      "source": [
        "## Discrete Uniform Distribution"
      ],
      "metadata": {
        "id": "6gG-hO1eg2dX"
      }
    },
    {
      "cell_type": "markdown",
      "source": [
        "All outcomes have the same chance of occuring"
      ],
      "metadata": {
        "id": "pTr1j-I8g5XM"
      }
    },
    {
      "cell_type": "markdown",
      "source": [
        "Rolling a Die:\n",
        "\n",
        "|Outcome|Probability|\n",
        "|-|-|\n",
        "1; 2; 3; 4; 5; 6|0.17\n",
        "All else|0"
      ],
      "metadata": {
        "id": "WCFD2g59g7WL"
      }
    },
    {
      "cell_type": "markdown",
      "source": [
        "## Visualizing distribution"
      ],
      "metadata": {
        "id": "P4Zv26B9hKi0"
      }
    },
    {
      "cell_type": "markdown",
      "source": [
        "Bar chart with the height showing the chance of each occurrence, the individual bars, occurring.\n",
        "\n",
        "In a uniform distribution chart, all bars should have the same height."
      ],
      "metadata": {
        "id": "uvZ5p5nYhMbr"
      }
    },
    {
      "cell_type": "markdown",
      "source": [
        "## Non-uniform Distribution"
      ],
      "metadata": {
        "id": "69lkhiIShmvg"
      }
    },
    {
      "cell_type": "markdown",
      "source": [
        "Outcomes do not have the same chance of occurring."
      ],
      "metadata": {
        "id": "ge1N3I8UhpY5"
      }
    },
    {
      "cell_type": "markdown",
      "source": [
        "Rolling Two Dice:\n",
        "\n",
        "|Outcome|Probability|\n",
        "|-|-|\n",
        "2|0.03\n",
        "3|0.06\n",
        "4|0.08\n",
        "5|0.11\n",
        "6|0.14\n",
        "7|0.17\n",
        "8|0.14\n",
        "9|0.11\n",
        "10|0.08\n",
        "11|0.06\n",
        "12|0.03\n",
        "All else|0"
      ],
      "metadata": {
        "id": "tB4Vc0clhuqt"
      }
    },
    {
      "cell_type": "markdown",
      "source": [
        "The visualization for this would create a perfect bell curve."
      ],
      "metadata": {
        "id": "weKLsbRGiDAM"
      }
    },
    {
      "cell_type": "markdown",
      "source": [
        "# Normal Distribution"
      ],
      "metadata": {
        "id": "V_AKzB_eieOg"
      }
    },
    {
      "cell_type": "markdown",
      "source": [
        "Also called Gaussian distribution or bell curve."
      ],
      "metadata": {
        "id": "o7VkU6YVijQ0"
      }
    },
    {
      "cell_type": "markdown",
      "source": [
        "Mean = median = mode"
      ],
      "metadata": {
        "id": "yAj4HEhzinTk"
      }
    },
    {
      "cell_type": "markdown",
      "source": [
        "Highest concentration is around the mean, symmetrical on either side of the mean."
      ],
      "metadata": {
        "id": "HfepYxiWiw67"
      }
    },
    {
      "cell_type": "markdown",
      "source": [
        "A lower mean moves the distribution graph to the left.\n",
        "\n",
        "A higher mean moves the distribution graph to the right."
      ],
      "metadata": {
        "id": "ACvxmOwji2az"
      }
    },
    {
      "cell_type": "markdown",
      "source": [
        "A lower standard deviation creates a smaller peak (less data in the middle) and fatter tails.\n",
        "\n",
        "A higher standard deviation creates taller peaks (more data in the middle) and thinner tails"
      ],
      "metadata": {
        "id": "-KfgLpCkjBtz"
      }
    },
    {
      "cell_type": "markdown",
      "source": [
        "# Standardization"
      ],
      "metadata": {
        "id": "O-6sZSlIjhAl"
      }
    },
    {
      "cell_type": "markdown",
      "source": [
        "Every distribution can be standarized"
      ],
      "metadata": {
        "id": "Asci3lcWjtRp"
      }
    },
    {
      "cell_type": "markdown",
      "source": [
        "Standardization is the process of transforming a variable to 1 with a mean of 0 and a standard deviation of 1."
      ],
      "metadata": {
        "id": "-6V192v6ju-v"
      }
    },
    {
      "cell_type": "markdown",
      "source": [
        "When we standardize a normal distribution, the result is a Standard Normal Distribution"
      ],
      "metadata": {
        "id": "K7PbpmD4jnqj"
      }
    },
    {
      "cell_type": "markdown",
      "source": [
        "Standardization is called a z-score"
      ],
      "metadata": {
        "id": "KszGi50pkFx8"
      }
    },
    {
      "cell_type": "markdown",
      "source": [
        "z-score = (original variable - mean) / standard deviation"
      ],
      "metadata": {
        "id": "PrXtJfCekJNu"
      }
    },
    {
      "cell_type": "markdown",
      "source": [
        "|Original Dataset|\n",
        "|-|\n",
        "1\n",
        "2\n",
        "2\n",
        "3\n",
        "3\n",
        "3\n",
        "4\n",
        "4\n",
        "5\n"
      ],
      "metadata": {
        "id": "ubG124grkhIK"
      }
    },
    {
      "cell_type": "markdown",
      "source": [
        "Mean = 3\n",
        "\n",
        "Std. Dev = 1.22"
      ],
      "metadata": {
        "id": "ZYYDr0XnkqvQ"
      }
    },
    {
      "cell_type": "markdown",
      "source": [
        "|Subtract mean|\n",
        "|-|\n",
        "-2\n",
        "-1\n",
        "-1\n",
        "0\n",
        "0\n",
        "0\n",
        "1\n",
        "1\n",
        "2"
      ],
      "metadata": {
        "id": "gbu6hyPbkwmm"
      }
    },
    {
      "cell_type": "markdown",
      "source": [
        "New mean = 0\n",
        "New std. dev. = 1.22 (same)"
      ],
      "metadata": {
        "id": "n_6BaNThk7lK"
      }
    },
    {
      "cell_type": "markdown",
      "source": [
        "|Divide by std dev|\n",
        "|-|\n",
        "-1.63\n",
        "-0.82\n",
        "-0.82\n",
        "0.00\n",
        "0.00\n",
        "0.00\n",
        "0.82\n",
        "0.82\n",
        "1.63"
      ],
      "metadata": {
        "id": "cwsqTEHSk_Ij"
      }
    },
    {
      "cell_type": "markdown",
      "source": [
        "Mean = 0.00\n",
        "\n",
        "std. dev = 1.00"
      ],
      "metadata": {
        "id": "AXJQofI9lPMt"
      }
    },
    {
      "cell_type": "code",
      "source": [],
      "metadata": {
        "id": "hDxbKexJjh_4"
      },
      "execution_count": null,
      "outputs": []
    },
    {
      "cell_type": "markdown",
      "source": [
        "# Central Limit Theorem"
      ],
      "metadata": {
        "id": "qNVTGPEDlUSN"
      }
    },
    {
      "cell_type": "markdown",
      "source": [
        "No matter the underlying distribution, the sampling distribution approximates a normal"
      ],
      "metadata": {
        "id": "3vQWTU5Wlruj"
      }
    },
    {
      "cell_type": "markdown",
      "source": [
        "The mean of the sampling distribution is the same as the population mean."
      ],
      "metadata": {
        "id": "-3r0PhtplwqI"
      }
    },
    {
      "cell_type": "markdown",
      "source": [
        "Sampling distribution = population variance/sampling size"
      ],
      "metadata": {
        "id": "_WG5a7Uzl161"
      }
    },
    {
      "cell_type": "markdown",
      "source": [
        "Bigger sample size = lower distribution"
      ],
      "metadata": {
        "id": "6mLVF0eroPRF"
      }
    },
    {
      "cell_type": "markdown",
      "source": [
        "## Why to use normal distribution"
      ],
      "metadata": {
        "id": "72LvMCqNoU85"
      }
    },
    {
      "cell_type": "markdown",
      "source": [
        "Approximate wide variety of random variables\n",
        "\n",
        "Distributions of sample means with large enough sample sizes could be apprixmated to normal\n",
        "\n",
        "All computable statistics are elegant\n",
        "\n",
        "Decisions based on normal distribution insights have a good track record\n",
        "\n",
        "Central limit theorem allows us to perform tests, solve problems and make inferences using the normal distribution, even when the population is not normal distributed"
      ],
      "metadata": {
        "id": "RMDIR7ZnoWo6"
      }
    },
    {
      "cell_type": "markdown",
      "source": [
        "# Standard Error"
      ],
      "metadata": {
        "id": "sAm2f2eZpzNu"
      }
    },
    {
      "cell_type": "markdown",
      "source": [
        "The standard deviation of the distribution\n",
        "\n",
        "Formed by the sample means"
      ],
      "metadata": {
        "id": "KkJej0Vkp3Gh"
      }
    },
    {
      "cell_type": "markdown",
      "source": [
        "Standard deviation = sqrt(variation/n)"
      ],
      "metadata": {
        "id": "90ewal_qqF4C"
      }
    },
    {
      "cell_type": "markdown",
      "source": [
        "Standard error, like any standard deviation, shows variability"
      ],
      "metadata": {
        "id": "PJK592sNqPz9"
      }
    },
    {
      "cell_type": "markdown",
      "source": [
        "Used in most statistical tests\n",
        "\n",
        "It shows how well you approximated the true mean"
      ],
      "metadata": {
        "id": "jDBjqzJAqWD_"
      }
    },
    {
      "cell_type": "markdown",
      "source": [
        "Standard error decreases when sample size (n) increases"
      ],
      "metadata": {
        "id": "rMpeMGcvqbbs"
      }
    },
    {
      "cell_type": "code",
      "source": [],
      "metadata": {
        "id": "lNIYsrQvp1l8"
      },
      "execution_count": null,
      "outputs": []
    },
    {
      "cell_type": "markdown",
      "source": [
        "# Estimators and Estimates"
      ],
      "metadata": {
        "id": "pjMc3rwXqpzA"
      }
    },
    {
      "cell_type": "markdown",
      "source": [
        "Approximation depending solely on sample information"
      ],
      "metadata": {
        "id": "xDpR0TNrqsA6"
      }
    },
    {
      "cell_type": "markdown",
      "source": [
        "Two types:\n",
        "\n",
        "Point estimates - single number\n",
        "\n",
        "Confidence intervals - Interval"
      ],
      "metadata": {
        "id": "-WdNWGsiqwZT"
      }
    },
    {
      "cell_type": "markdown",
      "source": [
        "Always looking for the most efficient, unbiased estimates"
      ],
      "metadata": {
        "id": "zZwql9vRq0y-"
      }
    },
    {
      "cell_type": "markdown",
      "source": [
        "Unbiased Estimator:\n",
        "\n",
        "expected value = population parameter"
      ],
      "metadata": {
        "id": "BpIy66a9rFjp"
      }
    },
    {
      "cell_type": "markdown",
      "source": [
        "Most efficient estimator:\n",
        "\n",
        "The unbiased estimator with smallest variance"
      ],
      "metadata": {
        "id": "390XTijArRiU"
      }
    },
    {
      "cell_type": "code",
      "source": [],
      "metadata": {
        "id": "p-e2OqPKqrC3"
      },
      "execution_count": null,
      "outputs": []
    }
  ]
}