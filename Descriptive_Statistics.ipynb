{
  "nbformat": 4,
  "nbformat_minor": 0,
  "metadata": {
    "colab": {
      "provenance": [],
      "collapsed_sections": [
        "2GfiuVaRrsSk",
        "irPH76zgr2kH",
        "uJ8p6jC4r40u",
        "wzBJfX_WsAn_",
        "MgjMfDvRsHlg",
        "t3wSU9qRsIzl",
        "WlWaSo9rspxk",
        "ApUYYIlrtAO1",
        "oq7yAgOyuBOZ",
        "iyYvMT8txtqQ",
        "Nbh-zJjh1lz_"
      ],
      "authorship_tag": "ABX9TyNQ1rHNtvUP2PbsaNOho03z",
      "include_colab_link": true
    },
    "kernelspec": {
      "name": "python3",
      "display_name": "Python 3"
    },
    "language_info": {
      "name": "python"
    }
  },
  "cells": [
    {
      "cell_type": "markdown",
      "metadata": {
        "id": "view-in-github",
        "colab_type": "text"
      },
      "source": [
        "<a href=\"https://colab.research.google.com/github/Daniel-Benson-Poe/365DataScience/blob/main/Descriptive_Statistics.ipynb\" target=\"_parent\"><img src=\"https://colab.research.google.com/assets/colab-badge.svg\" alt=\"Open In Colab\"/></a>"
      ]
    },
    {
      "cell_type": "markdown",
      "source": [
        "# Levels of Measurement"
      ],
      "metadata": {
        "id": "2GfiuVaRrsSk"
      }
    },
    {
      "cell_type": "markdown",
      "source": [
        "## Qualitative"
      ],
      "metadata": {
        "id": "irPH76zgr2kH"
      }
    },
    {
      "cell_type": "markdown",
      "source": [
        "### Nominal"
      ],
      "metadata": {
        "id": "uJ8p6jC4r40u"
      }
    },
    {
      "cell_type": "markdown",
      "source": [
        "Aren't numbers\n",
        "\n",
        "Cannot be ordered"
      ],
      "metadata": {
        "id": "R3HLm6zWr6Hc"
      }
    },
    {
      "cell_type": "markdown",
      "source": [
        "### Ordinal"
      ],
      "metadata": {
        "id": "wzBJfX_WsAn_"
      }
    },
    {
      "cell_type": "markdown",
      "source": [
        "Aren't numbers\n",
        "\n",
        "Can be ordered"
      ],
      "metadata": {
        "id": "XfY1veuesB71"
      }
    },
    {
      "cell_type": "markdown",
      "source": [
        "## Quantitative"
      ],
      "metadata": {
        "id": "MgjMfDvRsHlg"
      }
    },
    {
      "cell_type": "markdown",
      "source": [
        "### Ratio"
      ],
      "metadata": {
        "id": "t3wSU9qRsIzl"
      }
    },
    {
      "cell_type": "markdown",
      "source": [
        "Numerical\n",
        "\n",
        "Has a true zero\n",
        "\n",
        "Number of objects\n",
        "\n",
        "Distance\n",
        "\n",
        "Time"
      ],
      "metadata": {
        "id": "bAxQvsUzsKSb"
      }
    },
    {
      "cell_type": "markdown",
      "source": [
        "Interval"
      ],
      "metadata": {
        "id": "FteutMQnsMQ2"
      }
    },
    {
      "cell_type": "markdown",
      "source": [
        "Numerical\n",
        "\n",
        "Does not have a true zero\n",
        "\n",
        "Temperatures in C or F"
      ],
      "metadata": {
        "id": "1qZodudesE4H"
      }
    },
    {
      "cell_type": "markdown",
      "source": [
        "# Visualizing Variables"
      ],
      "metadata": {
        "id": "WlWaSo9rspxk"
      }
    },
    {
      "cell_type": "markdown",
      "source": [
        "## Representation of Categorical Variables\n"
      ],
      "metadata": {
        "id": "ApUYYIlrtAO1"
      }
    },
    {
      "cell_type": "markdown",
      "source": [
        "Frequency Distribution Tables\n",
        "\n",
        "Bar Charts/Column Charts\n",
        "\n",
        "Pie Chart (Relative frequency)\n",
        "\n",
        "Pareto Diagram\n",
        "\n",
        "\n"
      ],
      "metadata": {
        "id": "zvyKudHXtCez"
      }
    },
    {
      "cell_type": "markdown",
      "source": [
        "## Representation of Numerical Variables"
      ],
      "metadata": {
        "id": "oq7yAgOyuBOZ"
      }
    },
    {
      "cell_type": "markdown",
      "source": [
        "### Frequency Distribution Table\n",
        "\n"
      ],
      "metadata": {
        "id": "YtLfuqZ3uDsh"
      }
    },
    {
      "cell_type": "markdown",
      "source": [
        "Using the frequency distribution table, we can create a better table that includes intervals and frequencies.\n",
        "\n",
        "A number is included in an interval if that number:\n",
        "\n",
        "1. is GREATER than the lower bound\n",
        "1. is LOWER or EQUAL to the upper bound\n",
        "\n",
        "For example:\n",
        "\n",
        "|Dataset | Frequency|\n",
        "|--------|----------|\n",
        "1|1\n",
        "9|1\n",
        "22|1\n",
        "24|1\n",
        "32|1\n",
        "41|1\n",
        "44|1\n",
        "48|1\n",
        "57|1\n",
        "66|1\n",
        "70|1\n",
        "73|1\n",
        "75|1\n",
        "76|1\n",
        "79|1\n",
        "82|1\n",
        "87|1\n",
        "89|1\n",
        "95|1\n",
        "100|1\n"
      ],
      "metadata": {
        "id": "rmRBp9-1uViq"
      }
    },
    {
      "cell_type": "markdown",
      "source": [
        "The table above can be better represented by:\n",
        "\n",
        "|Interval start|Interval end|Frequency|\n",
        "|--------------|------------|---------|\n",
        "1|21|2\n",
        "21|41|4\n",
        "41|61|3\n",
        "61|81|6\n",
        "81|101|5"
      ],
      "metadata": {
        "id": "WR5tBoTUvdEr"
      }
    },
    {
      "cell_type": "markdown",
      "source": [
        "Another thing to keep in mind:\n",
        "\n",
        "relative frequency = frequency/total frequency\n"
      ],
      "metadata": {
        "id": "ZmuGoLXxv3pc"
      }
    },
    {
      "cell_type": "markdown",
      "source": [
        "Using relative frequency calculations we can add another column to our table:\n",
        "\n",
        "For the first row, 2/20 = 0.10, etc.\n",
        "\n",
        "|Interval start|Interval end|Frequency|Relative frequency\n",
        "|--------------|------------|---------|----------|\n",
        "1|21|2|0.10\n",
        "21|41|4|0.20\n",
        "41|61|3|0.15\n",
        "61|81|6|0.30\n",
        "81|101|5|0.25"
      ],
      "metadata": {
        "id": "4AT8l3Z8wBzN"
      }
    },
    {
      "cell_type": "markdown",
      "source": [
        "### Histogram"
      ],
      "metadata": {
        "id": "FiSTs-plw4_W"
      }
    },
    {
      "cell_type": "markdown",
      "source": [
        "Use the frequency distribution table to convert to a visual graph o the data.\n",
        "\n",
        "Each bar represents the intervals. So bar one would be interval 1-21, bar two would be 21-41, etc.\n",
        "\n",
        "The height of each bar represents the frequency of each interval. So the height of bar one would be 2, the height of bar two would be 4, etc."
      ],
      "metadata": {
        "id": "dJ0Ykqvjw7aM"
      }
    },
    {
      "cell_type": "markdown",
      "source": [
        "Histogram Relative Frequency"
      ],
      "metadata": {
        "id": "uRNdudT3xV1E"
      }
    },
    {
      "cell_type": "markdown",
      "source": [
        "This visualization is similar to a histogram but the height of each bar is the relative frequency instead of the actual frequency.\n",
        "\n",
        "So the height of bar one would be 0.10, the height of bar two would be 0.20, etc."
      ],
      "metadata": {
        "id": "duyowmV7xZ5y"
      }
    },
    {
      "cell_type": "markdown",
      "source": [
        "## Visualizing Multiple Variables"
      ],
      "metadata": {
        "id": "iyYvMT8txtqQ"
      }
    },
    {
      "cell_type": "markdown",
      "source": [
        "### Categorical Variables"
      ],
      "metadata": {
        "id": "mf4iYwRGx6aD"
      }
    },
    {
      "cell_type": "markdown",
      "source": [
        "#### Cross Tables"
      ],
      "metadata": {
        "id": "uARPjbIOx-wr"
      }
    },
    {
      "cell_type": "markdown",
      "source": [
        "|Type of investment\\investor|Investor A|Investor B|Investor C|Total\n",
        "|-------|------|-------|------|------|\n",
        "Stocks|96|185|39|320\n",
        "Bonds|181|3|29|213\n",
        "Real Estate|88|152|142|382\n",
        "Total|365|340|210|915"
      ],
      "metadata": {
        "id": "EEnffxUdyA06"
      }
    },
    {
      "cell_type": "markdown",
      "source": [
        "Using this table we can look at multiple data points for multiple categorical variables. We can see totals for investment in stocks, bonds, or real estate. We can also see totals for stock holdings of each investor."
      ],
      "metadata": {
        "id": "hFqQ8Qx2yrOJ"
      }
    },
    {
      "cell_type": "markdown",
      "source": [
        "#### Side-by-side Chart"
      ],
      "metadata": {
        "id": "kzjlxCk8yk4Y"
      }
    },
    {
      "cell_type": "markdown",
      "source": [
        "Chart that utilizes the information from a cross table"
      ],
      "metadata": {
        "id": "h4KjSBGdzHsM"
      }
    },
    {
      "cell_type": "markdown",
      "source": [
        "Similar to a bar chart but separated by groupings. For example, using the cross table above:\n",
        "\n",
        "The bar charts would be grouped into Investor A, Investor B, and Investor C. Each group would have three bars to represent stocks, bonds, and real estate. The height of each bar would represent the frequencies."
      ],
      "metadata": {
        "id": "1lOv2sL-zLgn"
      }
    },
    {
      "cell_type": "markdown",
      "source": [
        "### Numerical Variables"
      ],
      "metadata": {
        "id": "uiatASpuz16V"
      }
    },
    {
      "cell_type": "markdown",
      "source": [
        "#### Scatter Plot"
      ],
      "metadata": {
        "id": "V0CFk603z3Ra"
      }
    },
    {
      "cell_type": "markdown",
      "source": [
        "Imagine we have a table representing the SAT scores for each student, including both the reading and writing SAT scores. The table looks like:\n",
        "\n",
        "|Student ID|Reading|Writing|\n",
        "|----------|-------|-------|\n",
        "1|273|216\n",
        "2|292|282\n",
        "3|219|250\n",
        "4|241|217\n",
        "5|284|266\n",
        "6|247|294\n",
        "7|237|215\n",
        "8|286|203\n"
      ],
      "metadata": {
        "id": "ekM5udmiz8oS"
      }
    },
    {
      "cell_type": "markdown",
      "source": [
        "The scatter plot creates a plot graph that places a plot point for each student ID number. The x axis represents the reading score and the y axis represents the writing score. The plot points look like:\n",
        "\n",
        "StudentIDn(Reading Score, Writing Score)\n",
        "\n",
        "ID1(273,216)\n",
        "\n",
        "ID2(292,282)\n",
        "\n",
        "ID3(219,250)\n",
        "\n",
        "etc"
      ],
      "metadata": {
        "id": "IEFyfHlK0YWQ"
      }
    },
    {
      "cell_type": "markdown",
      "source": [
        "Looking into this scatter plot, we can begin to determine whether or not there is some sort of relation between the variables (in this case reading score vs writing score). If we were to graph the above table we would see that there appears to be a positive correlation between reading scores and writing scores.\n",
        "\n",
        "We can also find outliers and deal with them as necessary."
      ],
      "metadata": {
        "id": "YvCNdud61MHl"
      }
    },
    {
      "cell_type": "markdown",
      "source": [
        "# Measures of Central Tendency"
      ],
      "metadata": {
        "id": "Nbh-zJjh1lz_"
      }
    },
    {
      "cell_type": "markdown",
      "source": [
        "## Mean"
      ],
      "metadata": {
        "id": "Emr8_nRy2QQA"
      }
    },
    {
      "cell_type": "markdown",
      "source": [
        "Simple Average"
      ],
      "metadata": {
        "id": "oEZCqIEz2SDo"
      }
    },
    {
      "cell_type": "markdown",
      "source": [
        "Sum of all the components/number of components"
      ],
      "metadata": {
        "id": "I1dKD2aC2TWV"
      }
    },
    {
      "cell_type": "markdown",
      "source": [
        "Easily affected by outliers"
      ],
      "metadata": {
        "id": "k3d6k8lp2Y2p"
      }
    },
    {
      "cell_type": "markdown",
      "source": [
        "## Median"
      ],
      "metadata": {
        "id": "8lr9yo752h_o"
      }
    },
    {
      "cell_type": "markdown",
      "source": [
        "Number in the middle of an ordered list."
      ],
      "metadata": {
        "id": "83VuvtUG2mIG"
      }
    },
    {
      "cell_type": "markdown",
      "source": [
        "Number at position (n+1)/2 in an ordered list"
      ],
      "metadata": {
        "id": "e6S4pTsF2o9R"
      }
    },
    {
      "cell_type": "markdown",
      "source": [
        "We still don't get the full picture"
      ],
      "metadata": {
        "id": "PdzNMJDy2xhd"
      }
    },
    {
      "cell_type": "markdown",
      "source": [
        "## Mode"
      ],
      "metadata": {
        "id": "D74o56Cp2z7k"
      }
    },
    {
      "cell_type": "markdown",
      "source": [
        "Value that occurs most often"
      ],
      "metadata": {
        "id": "BxnFe0p121Vu"
      }
    },
    {
      "cell_type": "markdown",
      "source": [
        "What if everything occurs only once? Than we say there is NO mode...or that the mode is equal to the number of values."
      ],
      "metadata": {
        "id": "LVklFxyh23z0"
      }
    },
    {
      "cell_type": "markdown",
      "source": [
        "## Which Measure is Best?\n"
      ],
      "metadata": {
        "id": "WHNUGLay3MCg"
      }
    },
    {
      "cell_type": "markdown",
      "source": [
        "There is no best, but using only one is the worst mistake. Usually the best answer involves taking into account all three measures."
      ],
      "metadata": {
        "id": "_8_L9WNu3OzX"
      }
    },
    {
      "cell_type": "markdown",
      "source": [
        "## Example"
      ],
      "metadata": {
        "id": "sHpimw5O3uVx"
      }
    },
    {
      "cell_type": "markdown",
      "source": [
        "Pizza Prices\n",
        "\n",
        "|Position|New York City|Los Angeles|\n",
        "|--------|-------------|-----------|\n",
        "1|1.00|1.00\n",
        "2|2.00|2.00\n",
        "3|3.00|3.00\n",
        "4|3.00|4.00\n",
        "5|5.00|5.00\n",
        "6|6.00|6.00\n",
        "7|7.00|7.00\n",
        "8|8.00|8.00\n",
        "9|9.00|9.00\n",
        "10|11.00|10.00\n",
        "11|66.00|"
      ],
      "metadata": {
        "id": "vFIRU1sU3vXB"
      }
    },
    {
      "cell_type": "markdown",
      "source": [
        "The mean, median, and mode of the above data can be found in the table below:"
      ],
      "metadata": {
        "id": "ct-o3NGp4L37"
      }
    },
    {
      "cell_type": "markdown",
      "source": [
        "|Measurement|New York City|Los Angeles|\n",
        "|--------|--------|-------|\n",
        "Mean|11.00|5.50\n",
        "Median|6.00|5.50\n",
        "Mode|3.00|-"
      ],
      "metadata": {
        "id": "9dsljZ814PSR"
      }
    },
    {
      "cell_type": "markdown",
      "source": [
        "We can add to this further by including min and max to help determine outliers:"
      ],
      "metadata": {
        "id": "o93m38Ii4gyD"
      }
    },
    {
      "cell_type": "markdown",
      "source": [
        "|Measurement|New York City|Los Angeles|\n",
        "|--------|--------|-------|\n",
        "Mean|11.00|5.50\n",
        "Median|6.00|5.50\n",
        "Mode|3.00|-\n",
        "Min|1.00|1.00\n",
        "Max|66.00|10.00"
      ],
      "metadata": {
        "id": "XXMEHdht4ltd"
      }
    },
    {
      "cell_type": "code",
      "source": [],
      "metadata": {
        "id": "SkhoHUR1w6Ea"
      },
      "execution_count": null,
      "outputs": []
    },
    {
      "cell_type": "markdown",
      "source": [
        "# Measures of Asymmetry"
      ],
      "metadata": {
        "id": "2MsEHu1N40T4"
      }
    },
    {
      "cell_type": "markdown",
      "source": [
        "## Skewness"
      ],
      "metadata": {
        "id": "t5g5mXsf9liq"
      }
    },
    {
      "cell_type": "markdown",
      "source": [
        "Indicates whether the data is concentrated on one side"
      ],
      "metadata": {
        "id": "abV2Ghs99nbb"
      }
    },
    {
      "cell_type": "markdown",
      "source": [
        "Imagine we have three datasets with the mean, median, and mode all calculated."
      ],
      "metadata": {
        "id": "9ACB58ZS9-cU"
      }
    },
    {
      "cell_type": "markdown",
      "source": [
        "|Dataset|Mean|Median|Mode\n",
        "|-------|----|------|----|\n",
        "1|2.79|2.00|2.00\n",
        "2|4.00|4.00|4.00\n",
        "3|4.90|5.00|6.00"
      ],
      "metadata": {
        "id": "gaVODKQm-CFq"
      }
    },
    {
      "cell_type": "markdown",
      "source": [
        "We can determine the skewness from this data alone."
      ],
      "metadata": {
        "id": "Jn8zAkvK-kyS"
      }
    },
    {
      "cell_type": "markdown",
      "source": [
        "If the mean is greater than the median we see a positive skew (on a graph, most of the data – the hump – falls to the left of the graph). A better way to put this, the tail is pointed to the right, or rather, the outliers are found at the right of the graph.\n",
        "\n",
        "If the mean is equal to the median is equal to the mode we see a zero skew. The distribution is symmetrical and the hump is in the exact middle.\n",
        "\n",
        "If the mean is less than the median we see a negative skew, or the hump found at the right side of the graph, or better, the tail (outliers) is found on the left side of the graph."
      ],
      "metadata": {
        "id": "k7Xo9jQi-o9l"
      }
    },
    {
      "cell_type": "markdown",
      "source": [
        "In short:\n",
        "\n",
        "mean > median = positive skew (outliers to right)\n",
        "\n",
        "mean = median = mode = no skew (symmetrical)\n",
        "\n",
        "mean < median = negative skew (outliers to left"
      ],
      "metadata": {
        "id": "iGwGmD4G_aIc"
      }
    },
    {
      "cell_type": "markdown",
      "source": [
        "Skewness tells us where the data is. It helps us understand how the data is distributed."
      ],
      "metadata": {
        "id": "fIN4NZ7w_rzw"
      }
    },
    {
      "cell_type": "markdown",
      "source": [
        "# Measures of Variability"
      ],
      "metadata": {
        "id": "wG2nk7PE_6Gk"
      }
    },
    {
      "cell_type": "markdown",
      "source": [
        "## Variance"
      ],
      "metadata": {
        "id": "nV_xNnLR_82v"
      }
    },
    {
      "cell_type": "markdown",
      "source": [
        "Measures dispersion of a set of data points around their mean"
      ],
      "metadata": {
        "id": "-psvI-1oAGed"
      }
    },
    {
      "cell_type": "markdown",
      "source": [
        "The calculation depends on whether you are dealing with a population or a sample."
      ],
      "metadata": {
        "id": "bd1D93pPAQho"
      }
    },
    {
      "cell_type": "markdown",
      "source": [
        "Population equation is divided by N\n",
        "\n",
        "Sample equation is divided by n-1"
      ],
      "metadata": {
        "id": "XkRwUPEPAUdB"
      }
    },
    {
      "cell_type": "markdown",
      "source": [
        "### Population Equation"
      ],
      "metadata": {
        "id": "7wILVkg3AnMm"
      }
    },
    {
      "cell_type": "markdown",
      "source": [
        "Population Variance = The sum of differences between the observations and the mean, squared divided by the population"
      ],
      "metadata": {
        "id": "JTn4colSAzQs"
      }
    },
    {
      "cell_type": "markdown",
      "source": [
        "This means that the closer the number is to the mean, the lower the result we will obtain. The further away, the larger the result."
      ],
      "metadata": {
        "id": "e8KV0qaOA9_o"
      }
    },
    {
      "cell_type": "markdown",
      "source": [
        "To solve a population variance equation, the following steps must occur:"
      ],
      "metadata": {
        "id": "rgWd084tBSJ-"
      }
    },
    {
      "cell_type": "markdown",
      "source": [
        "1. Calculate the mean\n",
        "1. Calculate the sum of the differences squared between the observations and the mean\n",
        "1. Divide the result of the previous step by the total population"
      ],
      "metadata": {
        "id": "FUN7em-7BU9f"
      }
    },
    {
      "cell_type": "markdown",
      "source": [
        "#### Example:"
      ],
      "metadata": {
        "id": "-o5tXl5rBfr-"
      }
    },
    {
      "cell_type": "markdown",
      "source": [
        "|Population|\n",
        "|----------|\n",
        "1\n",
        "2\n",
        "3\n",
        "4\n",
        "5"
      ],
      "metadata": {
        "id": "pKgxOFBYBhDK"
      }
    },
    {
      "cell_type": "markdown",
      "source": [
        "1. Step 1 - Find the mean:\n",
        "\n",
        "Mean = (1 + 2 + 3 + 4 + 5)/5\n",
        "Mean = 3.00\n",
        "\n",
        "1. Step 2 - Calculate sum of differences\n",
        "\n",
        "Sum of differences squared = (1-3)$^2$+(2-4)$^2$+(3-3)$^2$+(4-3)$^2$+(5-3)$^2$ = 10.00\n",
        "\n",
        "1. Step 3 - Divide the result from step 2 by the population\n",
        "\n",
        "population variance = ((1-3)$^2$+(2-4)$^2$+(3-3)$^2$+(4-3)$^2$+(5-3)$^2$)/5 = 2.00\n",
        "\n",
        "So our population variance = 2.00"
      ],
      "metadata": {
        "id": "NizkAhSFBEQ2"
      }
    },
    {
      "cell_type": "markdown",
      "source": [
        "What if this data was just a sample of the population though?"
      ],
      "metadata": {
        "id": "oID2tZp4EBGt"
      }
    },
    {
      "cell_type": "markdown",
      "source": [
        "In this case, everything would be the same except step three, which would be to divide the result from step 2 by the population - 1."
      ],
      "metadata": {
        "id": "ROy6ua9wEHj4"
      }
    },
    {
      "cell_type": "markdown",
      "source": [
        "#### Example 2"
      ],
      "metadata": {
        "id": "UWFtotZ6ERSN"
      }
    },
    {
      "cell_type": "markdown",
      "source": [
        "|Population|\n",
        "|----------|\n",
        "1\n",
        "2\n",
        "3\n",
        "4\n",
        "5"
      ],
      "metadata": {
        "id": "juIlACOWEWjU"
      }
    },
    {
      "cell_type": "markdown",
      "source": [
        "1. Step 1 - Find the mean:\n",
        "\n",
        "Mean = (1 + 2 + 3 + 4 + 5)/5\n",
        "Mean = 3.00\n",
        "\n",
        "1. Step 2 - Calculate sum of differences\n",
        "\n",
        "Sum of differences squared = (1-3)$^2$+(2-4)$^2$+(3-3)$^2$+(4-3)$^2$+(5-3)$^2$ = 10.00\n",
        "\n",
        "1. Step 3 - Divide the result from step 2 by the population - 1\n",
        "\n",
        "sample variance = ((1-3)$^2$+(2-4)$^2$+(3-3)$^2$+(4-3)$^2$+(5-3)$^2$)/(5-1) = 2.5\n",
        "\n",
        "So our sample variance = 2.5"
      ],
      "metadata": {
        "id": "FBTrpqBLEbib"
      }
    },
    {
      "cell_type": "markdown",
      "source": [
        "## Standard Deviation"
      ],
      "metadata": {
        "id": "7s-V8ra0ExFt"
      }
    },
    {
      "cell_type": "markdown",
      "source": [
        "Usually much more meaningful than variance"
      ],
      "metadata": {
        "id": "kL3YnH9VE1Lx"
      }
    },
    {
      "cell_type": "markdown",
      "source": [
        "Calculation also depends on whether you are dealing with a population or a sample."
      ],
      "metadata": {
        "id": "idF8OgiHE59i"
      }
    },
    {
      "cell_type": "markdown",
      "source": [
        "To calculate population standard deviation:\n",
        "\n",
        "1. Find the population variance\n",
        "1. Find the square-root of the population variance"
      ],
      "metadata": {
        "id": "BxHCDv7lE-Do"
      }
    },
    {
      "cell_type": "markdown",
      "source": [
        "To calculate sample standard deviation:\n",
        "\n",
        "1. Find the sample variance\n",
        "1. Find the square root of the sample variance"
      ],
      "metadata": {
        "id": "CbAe93c0FJnO"
      }
    },
    {
      "cell_type": "markdown",
      "source": [
        "## Coefficient of Variation (CV)"
      ],
      "metadata": {
        "id": "tM9if7GiFcG1"
      }
    },
    {
      "cell_type": "markdown",
      "source": [
        "CV = Standard Deviation / Mean"
      ],
      "metadata": {
        "id": "XWFHV6_PFfj-"
      }
    },
    {
      "cell_type": "markdown",
      "source": [
        "Another term for this is relative standard deviation"
      ],
      "metadata": {
        "id": "7YVG0QLAFlFW"
      }
    },
    {
      "cell_type": "markdown",
      "source": [
        "## Which Measure is best?"
      ],
      "metadata": {
        "id": "rymYYJXYFsSK"
      }
    },
    {
      "cell_type": "markdown",
      "source": [
        "Standard deviation is usually most common measure of variability for a single dataset"
      ],
      "metadata": {
        "id": "ooi4BNsTFt_s"
      }
    },
    {
      "cell_type": "markdown",
      "source": [
        "Comparing the coefficient of Variation is the best to use when dealing with multiple datasets."
      ],
      "metadata": {
        "id": "A551cFHXFyJa"
      }
    },
    {
      "cell_type": "markdown",
      "source": [
        "## Standard Deviation Vs CV Example"
      ],
      "metadata": {
        "id": "J-0zifO9GDI0"
      }
    },
    {
      "cell_type": "markdown",
      "source": [
        "Pizza Prices\n",
        "\n",
        "|NY Dollars|Pesos|\n",
        "|-|-|\n",
        "1.00|18.81\n",
        "2.00|37.62\n",
        "3.00|56.43\n",
        "3.00|56.43\n",
        "5.00|94.05\n",
        "6.00|112.86\n",
        "7.00|131.67\n",
        "8.00|150.48\n",
        "9.00|169.29\n",
        "11.00|206.91"
      ],
      "metadata": {
        "id": "191G_GVCGGXW"
      }
    },
    {
      "cell_type": "markdown",
      "source": [
        "Step 1: Sample or population?\n",
        "\n",
        "Clearly we are dealing with a sample; there are more than 11 pizza restaurants in all of New York."
      ],
      "metadata": {
        "id": "2l1Vc6TEGbGf"
      }
    },
    {
      "cell_type": "markdown",
      "source": [
        "Step 2: Find the mean\n",
        "\n",
        "|-|Dollars|Pesos|\n",
        "|-|-|-|\n",
        "Mean|5.50|103.46"
      ],
      "metadata": {
        "id": "K5rptxjtGj6x"
      }
    },
    {
      "cell_type": "markdown",
      "source": [
        "Step 3: Find the sample variance\n",
        "\n",
        "|-|Dollars|Pesos|\n",
        "|-|-|-|\n",
        "Sample Variance|10.72|3793.69"
      ],
      "metadata": {
        "id": "8m_HcImmG1LX"
      }
    },
    {
      "cell_type": "markdown",
      "source": [
        "Step 4: Find the sample standard deviation\n",
        "\n",
        "|-|Dollars|Pesos|\n",
        "|-|-|-|\n",
        "Sample Standard Deviation|3.27|61.59"
      ],
      "metadata": {
        "id": "-v7qxSWVHGTS"
      }
    },
    {
      "cell_type": "markdown",
      "source": [
        "Standard deviation is the preferred measure of variability, as it is directly interpretable."
      ],
      "metadata": {
        "id": "suUjV69lHUet"
      }
    },
    {
      "cell_type": "markdown",
      "source": [
        "In the sample above, the measurement for variance is actually in dollars squared (\\$$^2$) and pesos squared (MXN$^2$), whereas the standard deviation measurement is in dollars ($) and pesos (MXN)"
      ],
      "metadata": {
        "id": "0PuOLcisHbTI"
      }
    },
    {
      "cell_type": "markdown",
      "source": [
        "Another observation:\n",
        "\n",
        "The sample above shows the exact same restaurants selling the exact same pizza using different currencies. But we see that for each currency the standard deviation is different!"
      ],
      "metadata": {
        "id": "llpwCnTeH5ku"
      }
    },
    {
      "cell_type": "markdown",
      "source": [
        "So let's add a step and find the coefficient of variation!"
      ],
      "metadata": {
        "id": "tRGkqeJvIFZf"
      }
    },
    {
      "cell_type": "markdown",
      "source": [
        "Step 5: Find the coefficient of variation\n",
        "\n",
        "|-|Dollars|Pesos|\n",
        "|-|-|-|\n",
        "Sample Coefficient of Variation|0.60|0.60"
      ],
      "metadata": {
        "id": "z-enMDVCIIub"
      }
    },
    {
      "cell_type": "markdown",
      "source": [
        "Here we see that the CV is the exact same! We also see that there is no measurement units."
      ],
      "metadata": {
        "id": "nN8gUP8wIT_p"
      }
    },
    {
      "cell_type": "markdown",
      "source": [
        "## Symbols to Remember"
      ],
      "metadata": {
        "id": "WqIutiwvI8tC"
      }
    },
    {
      "cell_type": "markdown",
      "source": [
        "N = population\n",
        "\n",
        "n = sample\n",
        "\n",
        "μ = Population mean\n",
        "\n",
        "x̄ = Sample mean\n",
        "\n",
        "σ = Standard Deviation\n",
        "\n",
        "CV = Coefficient of Variation\n",
        "\n"
      ],
      "metadata": {
        "id": "Ma2mSieaJDtq"
      }
    },
    {
      "cell_type": "code",
      "source": [
        "x = [1, 3, 5]"
      ],
      "metadata": {
        "id": "3ErLyBGRIkhX"
      },
      "execution_count": 3,
      "outputs": []
    },
    {
      "cell_type": "code",
      "source": [
        "import math\n",
        "\n",
        "xMean = sum(x)/3\n",
        "xVariance = ((1-xMean)**2)+((3-xMean)**2)+((5-xMean)**2)\n",
        "xStDv = math.sqrt(xVariance)\n",
        "xCV = xStDv/xMean"
      ],
      "metadata": {
        "id": "j4ZXBQOEJ0ax"
      },
      "execution_count": 8,
      "outputs": []
    },
    {
      "cell_type": "code",
      "source": [
        "print(\"Mean: \", xMean, \"\\n\")\n",
        "print(\"Variance: \", xVariance, \"\\n\")\n",
        "print(\"Standard Deviation: \", xStDv, \"\\n\")\n",
        "print(\"Coefficient of Variation: \", xCV, \"\\n\")"
      ],
      "metadata": {
        "colab": {
          "base_uri": "https://localhost:8080/"
        },
        "id": "1N8W5ZvAJ1K3",
        "outputId": "66ac0b1b-f2a9-4553-dd8b-ff1aba7ee5b5"
      },
      "execution_count": 10,
      "outputs": [
        {
          "output_type": "stream",
          "name": "stdout",
          "text": [
            "Mean:  3.0 \n",
            "\n",
            "Variance:  8.0 \n",
            "\n",
            "Standard Deviation:  2.8284271247461903 \n",
            "\n",
            "Coefficient of Variation:  0.9428090415820635 \n",
            "\n"
          ]
        }
      ]
    },
    {
      "cell_type": "markdown",
      "source": [
        "# Measures of Relationship Between Variables"
      ],
      "metadata": {
        "id": "aj8Re2OgLgLM"
      }
    },
    {
      "cell_type": "markdown",
      "source": [
        "## Covariance"
      ],
      "metadata": {
        "id": "MKGN_3orLk3g"
      }
    },
    {
      "cell_type": "markdown",
      "source": [
        "The main statistic to measure a correlation"
      ],
      "metadata": {
        "id": "A5U5NYICLtMt"
      }
    },
    {
      "cell_type": "markdown",
      "source": [
        "Can be positive, equal to zero, or negative"
      ],
      "metadata": {
        "id": "NsRgvt1-LzAe"
      }
    },
    {
      "cell_type": "markdown",
      "source": [
        "Covariance gives a sense of direction:\n",
        "\n",
        "\\> 0, the two variables move together\n",
        "\n",
        "< 0, the two variables move in opposite directions\n",
        "\n",
        "= 0, the two variables are independent"
      ],
      "metadata": {
        "id": "wWxF9racL9zN"
      }
    },
    {
      "cell_type": "markdown",
      "source": [
        "The problem with covariance is in its tendency to overscale numbers. We can have numbers like:\n",
        "\n",
        "5\n",
        "\n",
        "50\n",
        "\n",
        "0.002456\n",
        "\n",
        "33,491,350\n",
        "\n",
        "So we use Correlation coefficient to help scale these numbers for easier use."
      ],
      "metadata": {
        "id": "pZVQZ4mvMMwz"
      }
    },
    {
      "cell_type": "markdown",
      "source": [
        "### Calculating Covariance:"
      ],
      "metadata": {
        "id": "YQXclBctMZpR"
      }
    },
    {
      "cell_type": "markdown",
      "source": [
        "There is a difference between sample and population formulas: sample is divided by n-1, population is divided by N"
      ],
      "metadata": {
        "id": "dnc3LUHZMgHp"
      }
    },
    {
      "cell_type": "markdown",
      "source": [
        "1. Find the mean of x\n",
        "1. Find the mean of y\n",
        "1. Multiply the difference of x and xMean and y and yMean for each value of x and y\n",
        "1. Sum all the results obtained above\n",
        "1. Divide that result by (N for population) or (n-1 for sample)"
      ],
      "metadata": {
        "id": "ob2G3nRAMsTt"
      }
    },
    {
      "cell_type": "markdown",
      "source": [
        "#### Example:"
      ],
      "metadata": {
        "id": "n62QmlxFNe8j"
      }
    },
    {
      "cell_type": "markdown",
      "source": [
        "|Size (ft)|Price ($)|\n",
        "|-|-|\n",
        "650|772,000\n",
        "785|998,000\n",
        "1200|1200,000\n",
        "720|800,000\n",
        "975|895,000"
      ],
      "metadata": {
        "id": "c5N6ZlGiNh6z"
      }
    },
    {
      "cell_type": "markdown",
      "source": [
        "Step 1: Find the mean of x\n",
        "\n",
        "Mean = 866\n",
        "\n",
        "Step 2: Find the mean of y\n",
        "\n",
        "mean = 933,000\n",
        "\n",
        "Step 3: Multiply the difference of x and xMean and y and yMean for each value of x and y\n",
        "\n",
        "=\n",
        "\n",
        "34,776,000\n",
        "-5,265,000\n",
        "89,478,000\n",
        "19,418,000\n",
        "-4,142,000\n",
        "\n",
        "Step 4: Sum the results\n",
        "\n",
        "= 133,965,000\n",
        "\n",
        "Step 5: Divide the results by n-1 for sample:\n",
        "\n",
        "133,965,000 / (5-1) = 33,491,250"
      ],
      "metadata": {
        "id": "EtR91OtuOATV"
      }
    },
    {
      "cell_type": "markdown",
      "source": [
        "The covariance is greater than 0, so the two variables are moving together. This indicates that as the size of the house increases, the price of the house also increases."
      ],
      "metadata": {
        "id": "cfXBO3e2SxOI"
      }
    },
    {
      "cell_type": "code",
      "source": [
        "mX = 866\n",
        "mY = 933000\n",
        "\n",
        "diff = (650 - mX)*(772000-mY) + (785-mX)*(998000-mY) + (1200-mX)*(1200000-mY) + (720-mX)*(800000-mY) + (975-mX)*(895000-mY)"
      ],
      "metadata": {
        "id": "4EyEoTHBK8Aa"
      },
      "execution_count": 22,
      "outputs": []
    },
    {
      "cell_type": "code",
      "source": [
        "diff"
      ],
      "metadata": {
        "colab": {
          "base_uri": "https://localhost:8080/"
        },
        "id": "VthuOR81O8f1",
        "outputId": "4f174799-17fc-42d0-9e07-47485700a266"
      },
      "execution_count": 23,
      "outputs": [
        {
          "output_type": "execute_result",
          "data": {
            "text/plain": [
              "133965000"
            ]
          },
          "metadata": {},
          "execution_count": 23
        }
      ]
    },
    {
      "cell_type": "code",
      "source": [
        "diff/(5-1)"
      ],
      "metadata": {
        "colab": {
          "base_uri": "https://localhost:8080/"
        },
        "id": "0iLupt_oSDAN",
        "outputId": "ee8d23a6-167c-4c48-c16b-bbe697432c59"
      },
      "execution_count": 24,
      "outputs": [
        {
          "output_type": "execute_result",
          "data": {
            "text/plain": [
              "33491250.0"
            ]
          },
          "metadata": {},
          "execution_count": 24
        }
      ]
    }
  ]
}