{
  "nbformat": 4,
  "nbformat_minor": 0,
  "metadata": {
    "colab": {
      "provenance": [],
      "collapsed_sections": [
        "wB3n0P4EOgtP",
        "Ir_b_KmZPGUg",
        "FsqHySJbQlGV",
        "LLDQLcWQXplm",
        "_oDXBMvAglHU",
        "Mg00zowJSH4k",
        "0ASj0wKnUP4F"
      ],
      "authorship_tag": "ABX9TyOTcxT3Thr1aIv2VHkr5MEH",
      "include_colab_link": true
    },
    "kernelspec": {
      "name": "python3",
      "display_name": "Python 3"
    },
    "language_info": {
      "name": "python"
    }
  },
  "cells": [
    {
      "cell_type": "markdown",
      "metadata": {
        "id": "view-in-github",
        "colab_type": "text"
      },
      "source": [
        "<a href=\"https://colab.research.google.com/github/Daniel-Benson-Poe/365DataScience/blob/main/Confidence_Intervals.ipynb\" target=\"_parent\"><img src=\"https://colab.research.google.com/assets/colab-badge.svg\" alt=\"Open In Colab\"/></a>"
      ]
    },
    {
      "cell_type": "markdown",
      "source": [
        "# What is Confidence Intervals"
      ],
      "metadata": {
        "id": "wB3n0P4EOgtP"
      }
    },
    {
      "cell_type": "markdown",
      "source": [
        "An interval of values around the point estimate. More accurate representation of reality than a single point estimate.\n",
        "\n",
        "The point estimate is at the mid point of the confidence interval."
      ],
      "metadata": {
        "id": "c3sNXTXXOmWK"
      }
    },
    {
      "cell_type": "markdown",
      "source": [
        "Confidence Interval has a 95% chance of representing the population parameter.\n",
        "\n",
        "Of course, that means there is still a 5% chance the population parameter actually lies outside the range."
      ],
      "metadata": {
        "id": "FrfQG-vKO6MO"
      }
    },
    {
      "cell_type": "markdown",
      "source": [
        "## Confidence Level"
      ],
      "metadata": {
        "id": "Ir_b_KmZPGUg"
      }
    },
    {
      "cell_type": "markdown",
      "source": [
        "1 - alpha"
      ],
      "metadata": {
        "id": "7Mxy1YYWPIBC"
      }
    },
    {
      "cell_type": "markdown",
      "source": [
        "Alpha is a value between 0 and 1.\n",
        "\n",
        "For a 95% confidence that the population parameter is within the interval, alpha would have to be equal to 5.\n",
        "\n",
        "If we want a 99% confidence that the population parameter is within the interval, alpha would have to be equal to 1.\n"
      ],
      "metadata": {
        "id": "EciTzYRmPJ4f"
      }
    },
    {
      "cell_type": "markdown",
      "source": [
        "### Formula for all confidence levels:\n",
        "\n",
        "[point estimate - reliability factor * standard error, point estimate + reliability factor * standard error]"
      ],
      "metadata": {
        "id": "fQXq7JsxPhFH"
      }
    },
    {
      "cell_type": "markdown",
      "source": [
        "## Reliability factor"
      ],
      "metadata": {
        "id": "FsqHySJbQlGV"
      }
    },
    {
      "cell_type": "markdown",
      "source": [
        "Let's look at this through an example:\n",
        "\n",
        "Data Scientist Salary\n",
        "\n",
        "|Dataset|\n",
        "|-|\n",
        "117,313\n",
        "104,002\n",
        "113,038\n",
        "101,936\n",
        "84,560\n",
        "113,136\n",
        "80,740\n",
        "100,536\n",
        "105,052\n",
        "87,201\n",
        "91,986\n",
        "94,868\n",
        "90,745\n",
        "102,848\n",
        "85,927\n",
        "112,276\n",
        "108,637\n",
        "96,818\n",
        "92,307\n",
        "114,564"
      ],
      "metadata": {
        "id": "CPqpq7JBQoaq"
      }
    },
    {
      "cell_type": "markdown",
      "source": [
        "|-|-|\n",
        "|-|-|\n",
        "|Sample Mean|100,200\n",
        "|Population STD|15,000\n",
        "|Standard Error|2,739\n",
        "\n"
      ],
      "metadata": {
        "id": "9ZT9mxFrTL6q"
      }
    },
    {
      "cell_type": "markdown",
      "source": [
        "Common confidence levels = 90%, 95%, 99%\n",
        "\n",
        "Common alphas = 0.1, 0.05, 0.01"
      ],
      "metadata": {
        "id": "lZEj7-2FTdtu"
      }
    },
    {
      "cell_type": "markdown",
      "source": [
        "Z-score, or z of alpha, comes from the Standard normal distribution table, or z-table."
      ],
      "metadata": {
        "id": "v1dwL6sGThyb"
      }
    },
    {
      "cell_type": "markdown",
      "source": [
        "Common term for Z is 'critical value'"
      ],
      "metadata": {
        "id": "bxC9lEtMT7qr"
      }
    },
    {
      "cell_type": "markdown",
      "source": [
        "Using the table we first calculate z of alpha / 2.\n",
        "\n",
        "We know that alpha = 0.05, so\n",
        "\n",
        "z of alpha / 2 would be 0.05 / 2 = 0.025\n",
        "\n"
      ],
      "metadata": {
        "id": "nmIuHJwlT95A"
      }
    },
    {
      "cell_type": "markdown",
      "source": [
        "This will match the value of 1 - 0.025 = 0.975"
      ],
      "metadata": {
        "id": "u-WQCh-gUovV"
      }
    },
    {
      "cell_type": "markdown",
      "source": [
        "Finding 0.975 on the table gives us the values 0.06 on the x axis and 1.9 on the y axis. Using these two numbers we can find z of 0.025\n",
        "\n",
        "z 0f 0.025 = 1.9 + 0.06 = 1.96"
      ],
      "metadata": {
        "id": "7sRhlqyeUzEG"
      }
    },
    {
      "cell_type": "markdown",
      "source": [
        "Thus, we have found the critical value for this confidence interval."
      ],
      "metadata": {
        "id": "p3Mp1LsyVEgf"
      }
    },
    {
      "cell_type": "markdown",
      "source": [
        "Now we can plug everything into the formula:\n",
        "\n",
        "[100200 - 1.96*(15000/sqrt(30)), 100200 + 1.96*(15000/(sqrt(30))] = [94,833, 105,568]\n",
        "\n",
        "So, we are 95% confident that the average data scientist salary will be in the interval [\\$94,833, \\$105,568]"
      ],
      "metadata": {
        "id": "E-ECnQhuVLGO"
      }
    },
    {
      "cell_type": "markdown",
      "source": [
        "Now say we want to be 99% confident.\n",
        "\n",
        "Confidence interval: 99%\n",
        "\n",
        "alpha = 0.01\n",
        "\n"
      ],
      "metadata": {
        "id": "PQabp_ipVqMK"
      }
    },
    {
      "cell_type": "markdown",
      "source": [
        "alpha/2 = 0.01/2 = 0.005\n",
        "\n",
        "Look at table for value 1 - 0.005 = 0.995"
      ],
      "metadata": {
        "id": "eZ-44jnsVwG1"
      }
    },
    {
      "cell_type": "markdown",
      "source": [
        "We can't find this value on the table! In this case, we just round to the nearest value. In this case, the value is 0.9951.\n",
        "\n",
        "So we get the values 0.08 and 2.5.\n",
        "\n",
        "z0.005 = 2.5 + 0.08 = 2.58"
      ],
      "metadata": {
        "id": "rTMKvSOnV47O"
      }
    },
    {
      "cell_type": "markdown",
      "source": [
        "Plugging these into the equation, we get:\n",
        "\n",
        "[93,135, 107,206]\n",
        "\n",
        "Looking at the two, we can see that:\n",
        "\n",
        "For 95% confidence interval, our interval is narrower but only 95% confrident\n",
        "\n",
        "For 99% confidence interval, our interval is broader but has a higher confidence"
      ],
      "metadata": {
        "id": "KJyGXxCOWRdx"
      }
    },
    {
      "cell_type": "code",
      "source": [],
      "metadata": {
        "id": "PSo3NayTQn_c"
      },
      "execution_count": null,
      "outputs": []
    },
    {
      "cell_type": "markdown",
      "source": [
        "# Student's T Distribution"
      ],
      "metadata": {
        "id": "LLDQLcWQXplm"
      }
    },
    {
      "cell_type": "markdown",
      "source": [
        "Allows for:\n",
        "\n",
        "Inference through small samples\n",
        "\n",
        "Unknown population variance\n",
        "\n",
        "Huge real-life applications"
      ],
      "metadata": {
        "id": "CxSh-L3ufY-J"
      }
    },
    {
      "cell_type": "markdown",
      "source": [
        "Looks very similar to  normal distribution but has fatter tails and a lower peak."
      ],
      "metadata": {
        "id": "az7CYSF9fgen"
      }
    },
    {
      "cell_type": "markdown",
      "source": [
        "Allows for higher dispersion of variables and uncertainty."
      ],
      "metadata": {
        "id": "2GxhG3_wfnwU"
      }
    },
    {
      "cell_type": "markdown",
      "source": [
        "Related to the student's t distribution"
      ],
      "metadata": {
        "id": "FE8n_3GofuNx"
      }
    },
    {
      "cell_type": "markdown",
      "source": [
        "t with n-1 degrees of freedom, significance level of alpha = (sample mean - population mean)/(standard error of the sample)"
      ],
      "metadata": {
        "id": "6ujInI6YfzqG"
      }
    },
    {
      "cell_type": "markdown",
      "source": [
        "There are degrees of freedom:\n",
        "\n",
        "for a sample of n, we have n-1 degrees of freedom\n",
        "\n",
        "for a sample of 20, we have 20-1 = 19 degrees of freedom"
      ],
      "metadata": {
        "id": "5muz4jF3gEQG"
      }
    },
    {
      "cell_type": "markdown",
      "source": [
        "Like the z table, we also have a t table"
      ],
      "metadata": {
        "id": "Zo4bZGx0gQuv"
      }
    },
    {
      "cell_type": "code",
      "source": [],
      "metadata": {
        "id": "-0RwenyRXoo5"
      },
      "execution_count": null,
      "outputs": []
    },
    {
      "cell_type": "markdown",
      "source": [
        "# Examples"
      ],
      "metadata": {
        "id": "_oDXBMvAglHU"
      }
    },
    {
      "cell_type": "markdown",
      "source": [
        "## Population variance unknown, t-score"
      ],
      "metadata": {
        "id": "jjJfE_nvgmy0"
      }
    },
    {
      "cell_type": "markdown",
      "source": [
        "Data Scientist Salary\n",
        "\n",
        "|Dataset|\n",
        "|-|\n",
        "|78,000\n",
        "|90,000\n",
        "|765,000\n",
        "117,000\n",
        "105,000\n",
        "96,000\n",
        "89,500\n",
        "102,300\n",
        "80,000"
      ],
      "metadata": {
        "id": "ivLUvFJRiDgv"
      }
    },
    {
      "cell_type": "markdown",
      "source": [
        "|-|-|\n",
        "|-|-|\n",
        "Sample Mean|92,533\n",
        "Sample Standard Deviation|13,932\n",
        "Standard Error|4,644"
      ],
      "metadata": {
        "id": "ikc29sNViS8C"
      }
    },
    {
      "cell_type": "markdown",
      "source": [
        "We are missing the population variance!"
      ],
      "metadata": {
        "id": "49PpsH66ia-t"
      }
    },
    {
      "cell_type": "markdown",
      "source": [
        "That's ok, we can just use the student's t variation."
      ],
      "metadata": {
        "id": "mZS3BL4uiebz"
      }
    },
    {
      "cell_type": "markdown",
      "source": [
        "If population variance is known, sample standard variation goes with the z statistic.\n",
        "\n",
        "If population variance is not known, sample standard variation goes with the t statistic."
      ],
      "metadata": {
        "id": "LjYpET09ipAF"
      }
    },
    {
      "cell_type": "markdown",
      "source": [
        "We find the t statistic from the t table.\n",
        "\n",
        "First we figure out the degrees of freedom:\n",
        "\n",
        "we have 9 samples, so n-1 = 9-1 = 8 degrees of freedom"
      ],
      "metadata": {
        "id": "yg_OXM7ci7Mr"
      }
    },
    {
      "cell_type": "markdown",
      "source": [
        "Next we have to find alpha divided by 2.\n",
        "\n",
        "This depends on the confidence level we want to obtain. In this example, we'll go with 95%\n",
        "\n",
        "So, 95% CI => alpha = 5% = 0.05\n",
        "\n",
        "0.05 / 2 = 0.025\n",
        "\n",
        "So, for the first part of our equation:\n",
        "\n",
        "t8,0.025 = 2.31 (the associated t statistic in the t table)"
      ],
      "metadata": {
        "id": "ml1wkUkYjEiC"
      }
    },
    {
      "cell_type": "markdown",
      "source": [
        "Now we just need to plug in all the numbers:\n",
        "\n",
        "sample mean +/- t statistic * standard error:\n",
        "\n",
        "92,544 +/- 2.31 * 4,644 =\n",
        "\n",
        "Confidence interval (95%, unknown variance):\n",
        "\n",
        "($81,806, $103,261)"
      ],
      "metadata": {
        "id": "iH582ntijdnO"
      }
    },
    {
      "cell_type": "markdown",
      "source": [
        "Compare this with the result we got from having a known population variance and the z statistic:\n",
        "\n",
        "($94,833, $105,568)"
      ],
      "metadata": {
        "id": "IpV6BjK2kEYT"
      }
    },
    {
      "cell_type": "markdown",
      "source": [
        "Knowing the population variance gives us a narrower confidence interval"
      ],
      "metadata": {
        "id": "5AqHuq8ykRTs"
      }
    },
    {
      "cell_type": "code",
      "source": [],
      "metadata": {
        "id": "aheaNNHMglwn"
      },
      "execution_count": null,
      "outputs": []
    },
    {
      "cell_type": "markdown",
      "source": [
        "# Margin of Error"
      ],
      "metadata": {
        "id": "Mg00zowJSH4k"
      }
    },
    {
      "cell_type": "markdown",
      "source": [
        "When the population variance is known, we use the formula:\n",
        "\n",
        "sample mean +/- z statistic * standard error\n",
        "\n",
        "The margin of error is also equal to the second half of this equation: z statistic * standard error"
      ],
      "metadata": {
        "id": "fAgNTHIESK99"
      }
    },
    {
      "cell_type": "markdown",
      "source": [
        "When the population variance is not known, the margin of error is the second half of the t statistic equation:\n",
        "\n",
        "t statistic * standard error"
      ],
      "metadata": {
        "id": "gsE2J6-BTM_q"
      }
    },
    {
      "cell_type": "markdown",
      "source": [
        "# Example 1: Dependent Samples"
      ],
      "metadata": {
        "id": "0ASj0wKnUP4F"
      }
    },
    {
      "cell_type": "markdown",
      "source": [
        "Two types of samples:\n",
        "\n",
        "* Before and after situation\n",
        "\n",
        "* Cause and effect"
      ],
      "metadata": {
        "id": "QmR5_-wCU1Ln"
      }
    },
    {
      "cell_type": "markdown",
      "source": [
        "Very often used in medicine."
      ],
      "metadata": {
        "id": "fgl62NoPU-ma"
      }
    },
    {
      "cell_type": "markdown",
      "source": [
        "Magnesium Levels\n",
        "\n",
        "|Patient|Before|After|Difference|\n",
        "|-|-|-|-|\n",
        "1|2.00|1.70|-0.30\n",
        "2|1.40|1.70|0.30\n",
        "3|1.30|1.80|0.50\n",
        "4|1.10|1.30|0.20\n",
        "5|1.80|1.70|-0.10\n",
        "6|1.60|1.50|-0.10\n",
        "7|1.50|1.60|0.10\n",
        "8|0.70|1.70|1.00\n",
        "9|0.90|1.70|0.80\n",
        "10|1.50|2.40|0.90"
      ],
      "metadata": {
        "id": "7NMIYG4HVBef"
      }
    },
    {
      "cell_type": "markdown",
      "source": [
        "Mean: 0.33\n",
        "\n",
        "St. deviation: 0.45"
      ],
      "metadata": {
        "id": "vstbGveZV7CY"
      }
    },
    {
      "cell_type": "markdown",
      "source": [
        "Assuming a 95% confidence:\n",
        "\n",
        "95% t-stat: 2.26"
      ],
      "metadata": {
        "id": "F1QNJytrWA40"
      }
    },
    {
      "cell_type": "markdown",
      "source": [
        "Plugging all these values into the confidence interval equation for t statistics:\n",
        "\n",
        "CI = 0.33+- 2.26*(0.45/sqrt(10)) = (0.01, 0.065)"
      ],
      "metadata": {
        "id": "dxUAHlFYWKxH"
      }
    },
    {
      "cell_type": "markdown",
      "source": [
        "What can we determine from these results?\n",
        "\n",
        "1. In 95% of the cases, the true mean will fall in this interval\n",
        "\n",
        "1. The whole interval is positive\n",
        "\n",
        "1. The levels of Mg in the test subjects' blood is higher\n",
        "\n",
        "=> based on our small sample, the pill is effective"
      ],
      "metadata": {
        "id": "gO88N2irWdFj"
      }
    },
    {
      "cell_type": "markdown",
      "source": [
        "# Example 2: Independent Samples"
      ],
      "metadata": {
        "id": "43leXnfbUyPx"
      }
    },
    {
      "cell_type": "markdown",
      "source": [
        "There are three possible cases:\n",
        "\n",
        "* Population variance known\n",
        "\n",
        "* Population variance unknown but assumed to be equal\n",
        "\n",
        "* Population variance unknown but assumed to be different"
      ],
      "metadata": {
        "id": "y8NRt1lXUa53"
      }
    },
    {
      "cell_type": "markdown",
      "source": [
        "## Known population variance"
      ],
      "metadata": {
        "id": "F7F3mBMkWynC"
      }
    },
    {
      "cell_type": "markdown",
      "source": [
        "University example\n",
        "\n",
        "|-|Engineering|Management|Difference\n",
        "|-|-|-|-|\n",
        "Size|100|70|?\n",
        "Sample mean|58|65|-7.00\n",
        "Population std|10|5|1.16\n",
        "\n",
        "95% z-stat: 1.96"
      ],
      "metadata": {
        "id": "7oFSk6XPW16H"
      }
    },
    {
      "cell_type": "markdown",
      "source": [
        "Considerations:\n",
        "\n",
        "1. The populations are normally distributed\n",
        "\n",
        "1. The population variances are known\n",
        "\n",
        "1. The sample sizes are different\n",
        "\n",
        "1. Different departments\n",
        "\n",
        "1. Different teachers\n",
        "\n",
        "1. Different grades\n",
        "\n",
        "1. Different exams"
      ],
      "metadata": {
        "id": "I1u9Qjf7XCVi"
      }
    },
    {
      "cell_type": "markdown",
      "source": [
        "The two samples are independent from each other: The Engineering grades have no impact at all on the Management grades, so we know we are dealing with an independent variables sample."
      ],
      "metadata": {
        "id": "OozoJW1_Xd9e"
      }
    },
    {
      "cell_type": "markdown",
      "source": [
        "Problem: We want to find a 95% confidence interval for the difference between the grades of the students from engineering and management."
      ],
      "metadata": {
        "id": "dIHDZ9LMXsQh"
      }
    },
    {
      "cell_type": "markdown",
      "source": [
        "Considerations:\n",
        "\n",
        "1. Samples are big\n",
        "\n",
        "1. Population variances are known\n",
        "\n",
        "1. Populations are assumed to follow the normal distribution"
      ],
      "metadata": {
        "id": "R2aCqjcNX2R1"
      }
    },
    {
      "cell_type": "markdown",
      "source": [
        "CI = difference point estimator ( +- z statistic * (square root of the sum of the standard error for x (Engineering) and the standard error for y (Management)). The square root of the sum of standard errors is the 1.16 we found in the table.\n",
        "\n",
        "We got a result of:\n",
        "\n",
        "(-9.28, -4.72)"
      ],
      "metadata": {
        "id": "FgxgoAyCYmzn"
      }
    },
    {
      "cell_type": "markdown",
      "source": [
        "Takeaways:\n",
        "\n",
        "1. We are 95% confident that the tru mean difference between engineering and management grades falls into this interval\n",
        "\n",
        "1. The whole interval is negative => engineers were consistently getting lower grades\n",
        "\n",
        "1. Had we calculated difference as: 'management - engineering', we would get a confidence interval: (4.72, 9.29) telling us that management students were getting better grades"
      ],
      "metadata": {
        "id": "p-9n0JxhZwvU"
      }
    },
    {
      "cell_type": "markdown",
      "source": [
        "## Population Variance unknown but assumed to be equal"
      ],
      "metadata": {
        "id": "M7OD3Y83nOCq"
      }
    },
    {
      "cell_type": "markdown",
      "source": [
        "Problem: Estimate the difference of price of apples in NY and LA"
      ],
      "metadata": {
        "id": "2rCawwx9pIPz"
      }
    },
    {
      "cell_type": "markdown",
      "source": [
        "You don't know what the population variance of apple prices in NY or LA is, but youa ssume it should be the same."
      ],
      "metadata": {
        "id": "hKQjP42-pQU-"
      }
    },
    {
      "cell_type": "markdown",
      "source": [
        "|NY apples|LA apples|\n",
        "|-|-|\n",
        "3.80|3.02\n",
        "3.76|3.22\n",
        "3.87|3.24\n",
        "3.99|3.02\n",
        "4.02|3.06\n",
        "4.25|3.15\n",
        "4.13|3.81\n",
        "3.98|3.44\n",
        "3.99|-\n",
        "3.62|-"
      ],
      "metadata": {
        "id": "AVoMfiodpVMF"
      }
    },
    {
      "cell_type": "markdown",
      "source": [
        "|-|NY|LA|\n",
        "|-|-|-|\n",
        "Mean|3.94|3.25\n",
        "Std. deviation|0.18|0.27\n",
        "Sample size|10|8"
      ],
      "metadata": {
        "id": "-ArbsTQZptkG"
      }
    },
    {
      "cell_type": "markdown",
      "source": [
        "In this case the unbiased estimate is called the pooled variance:\n",
        "\n",
        "pooled variance =\n",
        "\n",
        "[(sample size x - 1)*(std. dev. x)$^2$ + (sample size y - 1)* (std. dev. y)$^2$] /  sample size x + sample size y - 2"
      ],
      "metadata": {
        "id": "fSkDdTR4qE3H"
      }
    },
    {
      "cell_type": "markdown",
      "source": [
        "Given the information above, we can plug in:\n",
        "\n",
        "(10-1)*0.18$^2$ + (8-1)*0.27$^2$) / 10 + 8 - 2 = 0.05\n",
        "\n",
        "So pooled variance = 0.05\n",
        "\n",
        "Pooled std = 0.22"
      ],
      "metadata": {
        "id": "8LZU8jK2qpZS"
      }
    },
    {
      "cell_type": "markdown",
      "source": [
        "1. Population variance unknown\n",
        "\n",
        "1. Small samples\n",
        "\n",
        "So we are using the T statistic"
      ],
      "metadata": {
        "id": "dR7UPA2OrK0w"
      }
    },
    {
      "cell_type": "markdown",
      "source": [
        "The confidence interval equation using T statistic:\n",
        "\n",
        "mean of x - mean of x +/- t statistic * sqrt(standard error of x + standard error of y)\n",
        "\n",
        "where the degrees of freedom to calculate the t stat are equal to the total sample size minus the number of variables, or, in this case:\n",
        "\n",
        "nx + ny - 2 = 10 + 8 - 2 = 16"
      ],
      "metadata": {
        "id": "sZjzQ940rVzc"
      }
    },
    {
      "cell_type": "markdown",
      "source": [
        "Our 95% t-stat = 2.12"
      ],
      "metadata": {
        "id": "Nc5ZfLz-sGIC"
      }
    },
    {
      "cell_type": "markdown",
      "source": [
        "So our confidence interval is:\n",
        "\n",
        "(3.94 - 3.25) +/- 2.12 * sqrt(0.05/10 + 0.05/8)\n",
        "\n",
        "CI = (0.47, 0.92)"
      ],
      "metadata": {
        "id": "W5skeH0xsKaH"
      }
    },
    {
      "cell_type": "markdown",
      "source": [
        "What can we confer?\n",
        "\n",
        "We are 95% confident th average difference in apple prices between NY and LA are somewhere between 0.47 and 0.92.\n",
        "\n",
        "Apples in NY are much more expensive than in LA"
      ],
      "metadata": {
        "id": "uYGPOTpMsk5y"
      }
    },
    {
      "cell_type": "markdown",
      "source": [
        "## Population Variance unknown and samples are assumed to be different"
      ],
      "metadata": {
        "id": "G5wz0OGws4Hl"
      }
    },
    {
      "cell_type": "markdown",
      "source": [
        "Comparing apples and oranges"
      ],
      "metadata": {
        "id": "pRoi1n0ntGQX"
      }
    },
    {
      "cell_type": "markdown",
      "source": [
        "The confidence interval formula:\n",
        "\n",
        "(mean x - mean y) +/- t statistic * sqrt(standard error x + standard error y)\n",
        "\n",
        "where the t statistic is calculated by calculating the degrees of freedom as follows:\n",
        "\n",
        "v = (standard error x + standard error y)$^2$ / [(standard error x)$^2$ / {(sample size x - 1 + (standard error y)$^2$)} / (sample size y - 1)]"
      ],
      "metadata": {
        "id": "GP2F01FYtImc"
      }
    },
    {
      "cell_type": "code",
      "source": [],
      "metadata": {
        "id": "IFEC3ztbZGOl"
      },
      "execution_count": null,
      "outputs": []
    }
  ]
}